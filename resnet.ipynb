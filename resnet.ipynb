{
  "cells": [
    {
      "metadata": {
        "trusted": true,
        "_uuid": "00833d394e3069216af171fd979c814e7e1e430d",
        "_kg_hide-input": true,
        "_kg_hide-output": false
      },
      "cell_type": "code",
      "source": "import os\nimport sys\nimport random\nimport warnings\nimport random as rn\nimport pandas as pd\nimport numpy as np\nimport matplotlib.pyplot as plt\nimport seaborn as sns\n%matplotlib inline\n\nimport cv2\n\nfrom tqdm import tqdm_notebook, tnrange\nfrom itertools import chain\nfrom skimage.io import imread, imshow, concatenate_images\nfrom skimage.transform import resize,rotate\nfrom skimage.morphology import label\nfrom skimage.color import rgb2gray\n\nfrom keras.models import *\nfrom keras.layers import *\nfrom keras.optimizers import *\nfrom keras.callbacks import *\nfrom keras import backend as K\nfrom keras.losses import *\n\nfrom sklearn.model_selection import train_test_split\nimport tensorflow as tf\n\nfrom keras.preprocessing.image import ImageDataGenerator, array_to_img, img_to_array, load_img",
      "execution_count": null,
      "outputs": []
    },
    {
      "metadata": {
        "trusted": true,
        "_uuid": "0e26e21ff39e8b2afc0003fec4e4f5269f61aa4c",
        "_kg_hide-input": true,
        "_kg_hide-output": false
      },
      "cell_type": "code",
      "source": "# Set some parameters\nn_pixels = 128\nchannels = 1\npath_train = '../input/train/'\npath_test = '../input/test/'",
      "execution_count": null,
      "outputs": []
    },
    {
      "metadata": {
        "trusted": true,
        "_uuid": "034cbfecacf915fdef0f19572cbf3401ee8879c8"
      },
      "cell_type": "code",
      "source": "train=pd.read_csv(\"../input/train.csv\")\nprint(train.shape)\ntrain.head()",
      "execution_count": null,
      "outputs": []
    },
    {
      "metadata": {
        "trusted": true,
        "_uuid": "c672d9bf3127dd10ed54e2e358887913f7ba6684"
      },
      "cell_type": "code",
      "source": "sample=pd.read_csv(\"../input/sample_submission.csv\")\nprint(sample.shape)\nsample.head()",
      "execution_count": null,
      "outputs": []
    },
    {
      "metadata": {
        "trusted": true,
        "_uuid": "62af04fae70adc7d449fd6bc8ae7a7668941562d"
      },
      "cell_type": "code",
      "source": "depth=pd.read_csv(\"../input/depths.csv\")\nprint(depth.shape)\ndepth.head()",
      "execution_count": null,
      "outputs": []
    },
    {
      "metadata": {
        "trusted": true,
        "_uuid": "11da35d0fd003b90f3f37f5a07a52f0fe2fd00c9"
      },
      "cell_type": "code",
      "source": "train_ids = train.id.values\ntest_ids = sample.id.values",
      "execution_count": null,
      "outputs": []
    },
    {
      "metadata": {
        "trusted": true,
        "_uuid": "b420c16cbbe5f11396652865f0e07d306df79e1f"
      },
      "cell_type": "code",
      "source": "import skimage as sk\n\nsk.__version__",
      "execution_count": null,
      "outputs": []
    },
    {
      "metadata": {
        "trusted": true,
        "_uuid": "a8f02165966489c8a21bb7127bb88e7cf607599d"
      },
      "cell_type": "code",
      "source": "resize_mode='constant'\n\n# Get and resize train images and masks\nX = np.zeros((len(train_ids), n_pixels, n_pixels, channels), dtype=np.uint8)\ny = np.zeros((len(train_ids), n_pixels, n_pixels, 1), dtype=np.bool)\nprint('Getting and resizing train images and masks ... ')\nsys.stdout.flush()\nfor n, id_ in tqdm_notebook(enumerate(train_ids), total=len(train_ids)):\n    path = path_train\n    x = np.array(load_img(path + '/images/' + id_+\".png\",color_mode='grayscale'))\n    x = resize(x, (n_pixels,n_pixels, channels), mode=resize_mode, \n               preserve_range=True,clip=True)\n    X[n] = x\n    mask = np.array(load_img(path + '/masks/' + id_+\".png\",color_mode='grayscale'))\n    y[n] = resize(mask, (n_pixels,n_pixels,1), mode=resize_mode, \n                  preserve_range=True,clip=True)\n\nprint('Done!')",
      "execution_count": null,
      "outputs": []
    },
    {
      "metadata": {
        "_uuid": "cefe7006f43d5d060eb1a7cfbb365191884560f1"
      },
      "cell_type": "markdown",
      "source": "## TEST DATA"
    },
    {
      "metadata": {
        "trusted": true,
        "_uuid": "179750f71645a40ec0e09fdfb4376a8614c6a612"
      },
      "cell_type": "code",
      "source": "# Get and resize test images\nX_test = np.zeros((len(test_ids),n_pixels,n_pixels,channels), dtype=np.uint8)\nsizes_test = []\nprint('Getting and resizing test images ... ')\nsys.stdout.flush()\nfor n, id_ in tqdm_notebook(enumerate(test_ids), total=len(test_ids)):\n    path = path_test\n    x= np.array(load_img(path + '/images/' + id_+\".png\",color_mode='grayscale'))\n    x = resize(x, (n_pixels,n_pixels, 1), mode=resize_mode, \n               preserve_range=True,clip=True)\n    X_test[n] = x\n\nprint('Done!')",
      "execution_count": null,
      "outputs": []
    },
    {
      "metadata": {
        "trusted": true,
        "_uuid": "6fd71cdff9d3c0ef00d54e7e58e40a7808bdf8be"
      },
      "cell_type": "code",
      "source": "",
      "execution_count": null,
      "outputs": []
    },
    {
      "metadata": {
        "trusted": true,
        "collapsed": true,
        "_uuid": "4ecd00b0e4251e0a88761ca157f95498341e5f5f"
      },
      "cell_type": "markdown",
      "source": "## VALIDATION SPLIT AND STRATIFICATION\n\nCalculating the salt coverage class"
    },
    {
      "metadata": {
        "trusted": true,
        "_uuid": "bda2b104818bd2a34e38a8a4656becf347b54b76"
      },
      "cell_type": "code",
      "source": "coverage=np.zeros((train_ids.shape[0],))\nfor i,name in tqdm_notebook(enumerate(train_ids),total=train_ids.shape[0]):\n    coverage[i]=np.sum(y[i,:,:,0])\n\ntrain['coverage']=pd.Series(coverage)/y.shape[1]**2\n\nprint(train.shape)\ntrain.head()",
      "execution_count": null,
      "outputs": []
    },
    {
      "metadata": {
        "trusted": true,
        "_uuid": "28b1d09674c3784267429f18f4f30b92f8f14682"
      },
      "cell_type": "code",
      "source": "def cov_to_class(val):    \n    for i in range(0, 11):\n        if val * 10 <= i :\n            return i\n        \ntrain[\"coverage_class\"] = train.coverage.apply(cov_to_class)\n\nprint(train.shape)\ntrain.head()",
      "execution_count": null,
      "outputs": []
    },
    {
      "metadata": {
        "trusted": true,
        "_uuid": "133f6b4e96c49766aa555faf9d9a9503a85827b5"
      },
      "cell_type": "code",
      "source": "## coverage class numpy array\ncoverage=train.coverage_class.values\nprint(coverage.shape)",
      "execution_count": null,
      "outputs": []
    },
    {
      "metadata": {
        "trusted": true,
        "_uuid": "f02b012df4e8a5d8a9c9e5d733ffc9a75093e98c"
      },
      "cell_type": "code",
      "source": "train.loc[train['coverage']==0].shape",
      "execution_count": null,
      "outputs": []
    },
    {
      "metadata": {
        "trusted": true,
        "_uuid": "14f076156513219e69d54103758936ca8985a632"
      },
      "cell_type": "code",
      "source": "p=np.ones((4000,))\nfor i in range(4000):\n    p[i]=np.sum(X[i,:,:,:])/(128*128)\n\nindex=[]\nfor j,i in enumerate(p):\n    if i==0:\n        index.append(j)\n        \n        \nprint(len(index))\nprint(index)",
      "execution_count": null,
      "outputs": []
    },
    {
      "metadata": {
        "trusted": true,
        "_uuid": "b71a6f77af2fe316c6811664c28c0dbcb0965d77"
      },
      "cell_type": "code",
      "source": "q=np.ones((18000,))\nfor i in range(18000):\n    q[i]=np.sum(X_test[i,:,:,:])/(128*128)\n    \nindextest=[]\nfor j,i in enumerate(q):\n    if i==0:\n        indextest.append(j)\n        \nprint(len(indextest))\nprint(indextest)",
      "execution_count": null,
      "outputs": []
    },
    {
      "metadata": {
        "_uuid": "d4a5ac159e01b945415d78d4844d613cf3f6b992"
      },
      "cell_type": "markdown",
      "source": "## AUGMENTATION"
    },
    {
      "metadata": {
        "trusted": true,
        "_uuid": "aeebc6071c9c8529b3eda705cd5d394a0cf868ad"
      },
      "cell_type": "code",
      "source": "ind=3\n\np=rotate(X[ind,:,:,0].astype(np.uint8),angle=10,order=1,mode='reflect',\n                clip=True,preserve_range=True)\nq=rotate(y[ind,:,:,0].astype(np.uint8),angle=10,order=1,mode='reflect',\n         clip=True,preserve_range=True)\n\nplt.figure(figsize=(12,7))\n\nplt.subplot(221)\nplt.imshow(X[ind].reshape(128,128),cmap='gist_gray')\nplt.subplot(222)\nplt.imshow(y[ind].reshape(128,128),cmap='gist_gray')\nplt.subplot(223)\nplt.imshow(p.astype(np.uint8).reshape(128,128),cmap='gist_gray')\nplt.subplot(224)\nplt.imshow(q.astype(np.uint8).reshape(128,128),cmap='gist_gray')\n\nplt.tight_layout()\nplt.show()\n",
      "execution_count": null,
      "outputs": []
    },
    {
      "metadata": {
        "trusted": true,
        "_uuid": "3a5009a15fbe888646de4c8b566c0a4f8b0a8c2c"
      },
      "cell_type": "code",
      "source": "",
      "execution_count": null,
      "outputs": []
    },
    {
      "metadata": {
        "trusted": true,
        "_uuid": "913d38293e2656a6141818842880a39043429070"
      },
      "cell_type": "code",
      "source": "def crop_rescale_image(image,mask,state,limit):\n    np.random.seed(state)\n    h,w=image.shape[0],image.shape[1]\n    dy=int(h*limit)\n    y0=np.random.randint(int(0.1*h),dy)\n    y1=h-y0\n    \n    \n    np.random.seed(state+5000)\n    dx=int(w*limit)\n    x0=np.random.randint(int(0.1*w),dx)\n    x1=w-x0\n    \n    m='reflect'\n#     print(y0,x0)\n    cropped_image=resize(image[y0:y1,x0:x1,:],(h,w),mode=m,\n                         preserve_range=True)\n    cropped_mask=resize(mask[y0:y1,x0:x1,:],(h,w),mode=m,\n                        preserve_range=True)\n\n    \n    return cropped_image,cropped_mask\n    \ndef random_crop_rescale(X,y,limit):\n    m=X.shape[0]\n    processed_image=np.zeros(X.shape)\n    processed_mask=np.zeros(y.shape)\n    for i in range(m):\n        processed_image[i,:,:,:],processed_mask[i,:,:,:]=crop_rescale_image(X[i,:,:,:],y[i,:,:,:],i,limit)\n    \n    return processed_image.astype(np.uint8),processed_mask.astype(np.uint8)\n\n\ndef rotate_grp(images,masks,ang):\n    rotated_images=np.zeros((images.shape))\n    rotated_masks=np.zeros((masks.shape))\n    for i in range(images.shape[0]):\n        rotated_images[i,:,:,0]=rotate(X[i,:,:,0].astype(np.uint8),angle=ang,order=1,mode='reflect',\n                clip=True,preserve_range=True)\n        rotated_masks[i,:,:,0]=q=rotate(y[ind,:,:,0].astype(np.uint8),angle=ang,order=1,mode='reflect',\n         clip=True,preserve_range=True)\n        \n        \n    return rotated_images.astype(np.uint8),rotated_masks.astype(np.uint8)",
      "execution_count": null,
      "outputs": []
    },
    {
      "metadata": {
        "trusted": true,
        "_uuid": "6ef5193b2cd45f02e569ecee5ae7bfc7c9b5354d"
      },
      "cell_type": "code",
      "source": "def augment(X,y,l,start_crop,end_crop,start_rot,end_rot,start_roll=-1,end_roll=-1,rolling=False):\n    m=X.shape[0]\n    print(\"Flipping\")\n    X=np.append(X,[np.fliplr(x) for x in X],axis=0)\n    y=np.append(y,[np.fliplr(i) for i in y],axis=0)\n\n    # trying random crop and rescale\n    np.random.seed(42)\n    index=np.arange(0,m)\n    # shuffling the array\n    np.random.shuffle(index)\n\n    print(\"Random crop and resize\")\n    # random crop and resize\n    processed_X,processed_y=random_crop_rescale(X[index[start_crop:end_crop]],\n                                                y[index[start_crop:end_crop]],limit=l)\n    X=np.append(X,processed_X,axis=0)\n    y=np.append(y,processed_y,axis=0)\n\n    print(\"Rotations\")\n    # 10 degree rotation\n    rotated_X,rotated_y=rotate_grp(X[index[start_rot:end_rot]],\n                                   y[index[start_rot:end_rot]],ang=10)\n\n    X=np.append(X,rotated_X,axis=0)\n    y=np.append(y,rotated_y,axis=0)\n    \n    if rolling:\n        print(\"Rolling\")\n        \n        roll_index=np.arange(0,X.shape[0])\n        \n        # shuffling\n        np.random.shuffle(roll_index)\n        \n        # rolling train and mask\n        to_roll_X=X[roll_index[start_roll:end_roll]]\n        to_roll_y=y[roll_index[start_roll:end_roll]]\n            \n        # 40 steps rolling\n        X=np.append(X,[np.roll(x, 40, axis = 1) for x in to_roll_X], axis = 0)\n        y=np.append(y,[np.roll(t,40,axis=1) for t in to_roll_y],axis=0)\n        \n    return X,y",
      "execution_count": null,
      "outputs": []
    },
    {
      "metadata": {
        "trusted": true,
        "_uuid": "783dc7661f9f3f6218ff30515c026a6bca33d589"
      },
      "cell_type": "code",
      "source": "",
      "execution_count": null,
      "outputs": []
    },
    {
      "metadata": {
        "trusted": true,
        "_uuid": "7146b107c8364631b29b1efaa54f5fd0271c9b29"
      },
      "cell_type": "code",
      "source": "# split\n\nX_train,X_val,y_train,y_val=train_test_split(X,y,test_size=0.1,stratify=coverage,random_state=42)\n\nprint(X_train.shape,X_val.shape)\nprint(y_train.shape,y_val.shape)",
      "execution_count": null,
      "outputs": []
    },
    {
      "metadata": {
        "trusted": true,
        "_uuid": "7f54fb66d28815ce0fbb36621447f4b464d78edc"
      },
      "cell_type": "code",
      "source": "print(\"Training Data Augmentation:\")\nprint(\"Before Augmentation:\",X_train.shape,y_train.shape)\n\nX_train,y_train=augment(X_train,y_train,l=0.3,start_crop=0,end_crop=1000,start_rot=1000,\n                        end_rot=2000,start_roll=0,end_roll=2000,rolling=True)\n\nprint(\"After Augmentation \",X_train.shape,y_train.shape)\n\nprint(\"Validation Augmentation:\")\nprint(\"Before Augmentation:\",X_val.shape,y_val.shape)\n\nX_val,y_val=augment(X_val,y_val,l=0.3,start_crop=0,end_crop=150,start_rot=150,\n                    end_rot=300,start_roll=0,end_roll=200,rolling=True)\n\nprint(\"After Augmentation:\",X_val.shape,y_val.shape)",
      "execution_count": null,
      "outputs": []
    },
    {
      "metadata": {
        "trusted": true,
        "_uuid": "5bca21dde6a42fae530f22b6d8d761e9da56cd89"
      },
      "cell_type": "code",
      "source": "",
      "execution_count": null,
      "outputs": []
    },
    {
      "metadata": {
        "trusted": true,
        "_uuid": "251709e9dea2da547c12cc6ea3df309599b1843f"
      },
      "cell_type": "code",
      "source": "",
      "execution_count": null,
      "outputs": []
    },
    {
      "metadata": {
        "_uuid": "0d66a11a8d8d48e16640307185062f5494c1f5b6"
      },
      "cell_type": "markdown",
      "source": "## Train Model\nMetrics copied from public kernels"
    },
    {
      "metadata": {
        "trusted": true,
        "_uuid": "b4716a2112dfb71c75e60bff90cb17836f78bf66"
      },
      "cell_type": "code",
      "source": "## metric,copied from https://www.kaggle.com/jcesquiveld/tgs-simple-u-net-baseline\n\ndef castF(x):\n    return K.cast(x, K.floatx())\n\ndef castB(x):\n    return K.cast(x, bool)\n\ndef iou_loss_core(true,pred):\n    intersection = true * pred\n    notTrue = 1 - true\n    union = true + (notTrue * pred)\n\n    return (K.sum(intersection, axis=-1) + K.epsilon()) / (K.sum(union, axis=-1) + K.epsilon())\n\ndef competition_metric(true, pred): #any shape can go\n\n    tresholds = [0.5 + (i*.05)  for i in range(10)]\n\n    #flattened images (batch, pixels)\n    true = K.batch_flatten(true)\n    pred = K.batch_flatten(pred)\n    pred = castF(K.greater(pred, 0.5))\n\n    #total white pixels - (batch,)\n    trueSum = K.sum(true, axis=-1)\n    predSum = K.sum(pred, axis=-1)\n\n    #has mask or not per image - (batch,)\n    true1 = castF(K.greater(trueSum, 1))    \n    pred1 = castF(K.greater(predSum, 1))\n\n    #to get images that have mask in both true and pred\n    truePositiveMask = castB(true1 * pred1)\n\n    #separating only the possible true positives to check iou\n    testTrue = tf.boolean_mask(true, truePositiveMask)\n    testPred = tf.boolean_mask(pred, truePositiveMask)\n\n    #getting iou and threshold comparisons\n    iou = iou_loss_core(testTrue,testPred) \n    truePositives = [castF(K.greater(iou, tres)) for tres in tresholds]\n\n    #mean of thressholds for true positives and total sum\n    truePositives = K.mean(K.stack(truePositives, axis=-1), axis=-1)\n    truePositives = K.sum(truePositives)\n\n    #to get images that don't have mask in both true and pred\n    trueNegatives = (1-true1) * (1 - pred1) # = 1 -true1 - pred1 + true1*pred1\n    trueNegatives = K.sum(trueNegatives) \n\n    return (truePositives + trueNegatives) / castF(K.shape(true)[0])\n\ndef mean_iou(y_true, y_pred):\n    prec = []\n    for t in np.arange(0.5, 1.0, 0.05):\n        y_pred_ = tf.to_int32(y_pred > t)\n        score, up_opt = tf.metrics.mean_iou(y_true, y_pred_, 2)\n        K.get_session().run(tf.local_variables_initializer())\n        with tf.control_dependencies([up_opt]):\n            score = tf.identity(score)\n        prec.append(score)\n    return K.mean(K.stack(prec), axis=0)",
      "execution_count": null,
      "outputs": []
    },
    {
      "metadata": {
        "trusted": true,
        "_uuid": "2c5c2ba23becc85155a45e34af9e97b9c226b9c0"
      },
      "cell_type": "code",
      "source": "# loss\n# here i will add dice and bce loss\n# taken from https://www.kaggle.com/kmader/u-net-with-dice-and-augmentation\n\ndef dice_loss(y_true, y_pred, smooth=1):\n    intersection = K.sum(y_true * y_pred, axis=[1,2,3])\n    union = K.sum(y_true, axis=[1,2,3]) + K.sum(y_pred, axis=[1,2,3])\n    score=K.mean( (2. * intersection + smooth) / (union + smooth), axis=0)\n    return 1.0-score\n\ndef dice_and_bce(in_gt, in_pred):\n    \"\"\"combine DICE and BCE\"\"\"\n    return binary_crossentropy(in_gt, in_pred) + dice_loss(in_gt, in_pred)",
      "execution_count": null,
      "outputs": []
    },
    {
      "metadata": {
        "_uuid": "7eaaa7846d0509faff243969f0372899d3399abc"
      },
      "cell_type": "markdown",
      "source": "## ARCHITECUTE"
    },
    {
      "metadata": {
        "trusted": true,
        "_uuid": "6b49a0fd646b457bd628ceba37a79c5eea0e269d"
      },
      "cell_type": "code",
      "source": "def batch_activate(x,normalize=True,do_activation=True):\n    output=x\n    if normalize:\n        output=BatchNormalization()(output)\n    if do_activation:\n        output=Activation(activation='relu')(output)\n        \n    return output\n\ndef residual_block(inputs,fil,match_channel=False):\n    x=batch_activate(inputs,normalize=True,do_activation=True)\n    \n    # 3x3 convolutions\n    x=Conv2D(fil,(3,3),padding='same',activation=None,use_bias=False)(x)\n    \n    # batch norm and relu\n    x=batch_activate(x,normalize=True,do_activation=True)\n    \n    # 3x3 convolutions\n    x=Conv2D(fil,(3,3),padding='same',activation=None,use_bias=False)(x)\n    \n    if match_channel:\n        inputs=Conv2D(fil,(1,1),padding='same',activation=None,use_bias=False)(inputs)\n    \n    p=Add()([x,inputs])\n    \n    return x",
      "execution_count": null,
      "outputs": []
    },
    {
      "metadata": {
        "trusted": true,
        "_uuid": "58e87797db5bb02b8f0ad6a0af6592e94f9f8b3f",
        "scrolled": true
      },
      "cell_type": "code",
      "source": "inputs = Input(shape = (n_pixels,n_pixels, channels))\n\nnormalize=True\nbatch_normalize=True\n\nif normalize:\n    s=Lambda(lambda x: x / 255) (inputs)\nelse:\n    s=inputs\n    \nch=16\n# c1=Conv2D(ch,(3,3),activation=None,use_bias=False,padding='same')(s)\n\n# 128 to 64\nc1 = residual_block(s,ch,match_channel=False)\nc1 = residual_block(c1,ch,match_channel=False)\nc1=  BatchNormalization()(c1) if batch_normalize else c1\np1 = MaxPooling2D(pool_size=(2, 2))(c1)\n\n# 64 to 32\nc2 = residual_block(p1,2*ch,match_channel=True)\nc2 = residual_block(c2,2*ch,match_channel=False)\nc2 = BatchNormalization()(c2) if batch_normalize else c2\np2 = MaxPooling2D(pool_size = (2, 2))(c2)\n\n# 32 to 16\nc3 = residual_block(p2,4*ch,match_channel=True)\nc3 = residual_block(c3,4*ch,match_channel=False)\nc3= BatchNormalization()(c3) if batch_normalize else c3\np3 = MaxPooling2D(pool_size = (2, 2))(c3)\n\n\n# 16 to 8\nc4 = residual_block(p3,8*ch,match_channel=True)\nc4 = residual_block(c4,8*ch,match_channel=False)\nc4=BatchNormalization()(c4) if batch_normalize else c4\np4 = MaxPooling2D(pool_size=(2, 2))(c4)\n\n\n# 16 to 8\nc5 = residual_block(p4, 16*ch, match_channel=True)\nc5 = residual_block(c5, 16*ch, match_channel=False)\nc5=BatchNormalization()(c5) if batch_normalize else c5\n\n# 8 to 16\nu6 = Conv2DTranspose(128, (2, 2), strides=(2, 2), activation = \"relu\",padding = \"same\")(c5)\nu6 = concatenate([u6, c4]) # 256 shape\nc6 = residual_block(u6,8*ch,match_channel=True)\nc6 = residual_block(c6,8*ch,match_channel=False)\nc6 = BatchNormalization()(c6) if batch_normalize else c6\n\n# 16 to 32\nu7 = Conv2DTranspose(64, (2, 2), strides = (2, 2,), activation = \"relu\",padding = \"same\")(c6)\nu7 = concatenate([u7, c3]) # 128  shape\nc7 = residual_block(u7,4*ch,match_channel=True)\nc7 = residual_block(c7,4*ch,match_channel=False)\nc7 = BatchNormalization()(c7) if batch_normalize else c7\n\n# 32 to 64\nu8 = Conv2DTranspose(32, (2, 2), strides = (2, 2), activation = \"relu\",padding = \"same\")(c7)\nu8 = concatenate([u8, c2]) # 64 shape\nc8 = residual_block(u8,2*ch,match_channel=True)\nc8 = residual_block(c8,2*ch,match_channel=False)\nc8 = BatchNormalization()(c8) if batch_normalize else c8\n\n# 64 to 128\nu9 = Conv2DTranspose(16, (2, 2), strides = (2, 2), activation = \"relu\",padding = \"same\")(c8)\nu9 = concatenate([u9, c1])   # 32 shape\nc9 = residual_block(u9,ch,match_channel=True)\nc9 = residual_block(c9,ch,match_channel=False)\nc9 = BatchNormalization()(c9) if batch_normalize else c9\n\noutputs = Conv2D(1, (1, 1), activation = \"sigmoid\")(c9)\n\nmodel = Model(inputs = [inputs], outputs = [outputs])\noptimizer = Adam()\n\nmodel.compile(optimizer = optimizer, loss = \"binary_crossentropy\", metrics = [competition_metric])\nmodel.summary()\n",
      "execution_count": null,
      "outputs": []
    },
    {
      "metadata": {
        "trusted": true,
        "_uuid": "cc6c39e944193242e011e843c75840ebb1362beb"
      },
      "cell_type": "code",
      "source": "",
      "execution_count": null,
      "outputs": []
    },
    {
      "metadata": {
        "trusted": true,
        "_uuid": "9b8702cb1463886a4cab6dda11385f57eef7ed31"
      },
      "cell_type": "code",
      "source": "",
      "execution_count": null,
      "outputs": []
    },
    {
      "metadata": {
        "trusted": true,
        "_uuid": "58969e2e3bdca3b94da4ebd4e513a83455adf00a",
        "scrolled": true
      },
      "cell_type": "code",
      "source": "\n## copied from https://github.com/jfpuget/LibFM_in_Keras/blob/master/keras_blog.ipynb\n# if we do this we cant use mean_iou as the metric due to initializations errors\n# try:\n#     del sess\n# except:\n#     pass\n# sess = init_seeds(0)\n\n\nbatch=32\nep=50\nname_model='resnet34_unet.h5'\ninclude_earlystopper=True\ninclude_checkpointer=True\ninclude_lr=True\n\n\n\nearlystopper = EarlyStopping(monitor='val_competition_metric',patience=10,\n                             mode='max',verbose=1)\ncheckpointer = ModelCheckpoint(name_model, monitor='val_competition_metric',mode='max',\n                               verbose=1, save_best_only=True)\nreduce_lr=ReduceLROnPlateau(monitor='val_competition_metric',patience=5, \n                            min_lr=0.00001,mode='max',verbose=1,factor=0.5)\n\n\ncallback=[]\n\nif include_earlystopper:\n    callback.append(earlystopper)\n\nif include_checkpointer:\n    callback.append(checkpointer)\n    \nif include_lr:\n    callback.append(reduce_lr)\n\n\n\nresults = model.fit(X_train, y_train, validation_data=[X_val,y_val], batch_size=batch, epochs=ep, \n                    callbacks=callback)",
      "execution_count": null,
      "outputs": []
    },
    {
      "metadata": {
        "trusted": true,
        "_uuid": "34e1f4923f7d5f37f100e943b16f1544bdfcd2dd"
      },
      "cell_type": "code",
      "source": "# batch=16\n# ep=15\n\n\n# model = load_model(name_model, custom_objects={'competition_metric': competition_metric,\n#                                             'mean_iou':mean_iou,'dice_and_bce':dice_and_bce})\n\n# model.compile(optimizer='rmsprop', loss='binary_crossentropy', \n#                   metrics=[mean_iou,competition_metric])\n\n# results = model.fit(X_train, y_train, validation_data=[X_val,y_val], \n#                     batch_size=batch, epochs=ep, callbacks=callback)",
      "execution_count": null,
      "outputs": []
    },
    {
      "metadata": {
        "_uuid": "5ab8516fb8ab135872dd4f4b895b5d76206df1fa"
      },
      "cell_type": "markdown",
      "source": "# Test Data\nFirst we'll get the test data. This takes a while, it's 18000 samples."
    },
    {
      "metadata": {
        "trusted": true,
        "_uuid": "c6d376a5ed9fa0ff708299f55a0a8ed8b8471137"
      },
      "cell_type": "code",
      "source": "",
      "execution_count": null,
      "outputs": []
    },
    {
      "metadata": {
        "_uuid": "34fc930a0b1de23fd52817f7bcdd7c900d186584"
      },
      "cell_type": "markdown",
      "source": "## EVALUATION"
    },
    {
      "metadata": {
        "trusted": true,
        "_uuid": "ce6c70505c2569807a6c84033708b314830ecd28"
      },
      "cell_type": "code",
      "source": "model = load_model(name_model, custom_objects={'competition_metric': competition_metric,\n                                               'mean_iou':mean_iou,'dice_and_bce':dice_and_bce})\n\nprint(model.metrics_names)\nprint(model.evaluate(X_train,y_train))\nprint(model.evaluate(X_val,y_val))",
      "execution_count": null,
      "outputs": []
    },
    {
      "metadata": {
        "trusted": true,
        "_uuid": "2316034edcb7227673fd9b69264ca9c0d0e87f14"
      },
      "cell_type": "code",
      "source": "# Predict on train, val and test\npreds_train = model.predict(X_train, verbose=1)\npreds_val = model.predict(X_val, verbose=1)\npreds_test = model.predict(X_test, verbose=1)\n\n# Threshold predictions\nthre=0.5\npreds_train_t = (preds_train > thre).astype(np.uint8)\npreds_val_t = (preds_val > thre).astype(np.uint8)\npreds_test_t = (preds_test > thre).astype(np.uint8)",
      "execution_count": null,
      "outputs": []
    },
    {
      "metadata": {
        "trusted": true,
        "_uuid": "68b2cf37217cad9338f17ba3dd7683d93888714a"
      },
      "cell_type": "code",
      "source": "# amit's metric \n\n# https://www.kaggle.com/amitkvikram\n\nthresholds = [0.5, 0.55, 0.60, 0.65, 0.70, 0.75, 0.80, 0.85, 0.90, 0.95]\nn_thresholds = len(thresholds)\n\n#function to return A∩B and A∪B\ndef IoUhelper(TrueMask, predictedMask):\n    intersection = cv2.bitwise_and(TrueMask, predictedMask)\n    union = cv2.bitwise_or(TrueMask, predictedMask)\n    intersectionCnt = cv2.countNonZero(intersection)\n    unionCnt = cv2.countNonZero(union)\n    return intersectionCnt, unionCnt\n\ndef meanHit(TrueMask, predictedMask):\n    hitCnt = 0\n    intersectionCnt, unionCnt = IoUhelper(TrueMask, predictedMask)\n#     print(\"intersction = \", intersectionCnt, \"unionCnt = \", unionCnt)\n    #if both TrueMask is empty and PredictedMask is empty\n    if(intersectionCnt == 0 and unionCnt == 0):\n        return 1\n    \n    #if TrueMask in empty and  Predicted mask in non empty\n    #--------------------OR-------------------------\n    #if TrueMask is non empty and Predicted Mask is empty\n    if(intersectionCnt == 0 and unionCnt != 0):\n        return 0\n    \n    #if TrueMask is non empty and predicted Mask is non emtpy\n    IoU = intersectionCnt/unionCnt\n    for t in thresholds:\n        hitCnt+=int(IoU > t)\n    return hitCnt/n_thresholds\n\n\ntot=0\nfor i in range(X_val.shape[0]):\n    tot=tot+meanHit(y_val[i].astype(np.uint8),preds_val_t[i].astype(np.uint8))\n    \n\nprint(\"The validatoin IOU is \",tot/X_val.shape[0])",
      "execution_count": null,
      "outputs": []
    },
    {
      "metadata": {
        "trusted": true,
        "_uuid": "4ea3c53de798a429293661f1f52a1f1248c7d753"
      },
      "cell_type": "code",
      "source": "",
      "execution_count": null,
      "outputs": []
    },
    {
      "metadata": {
        "trusted": true,
        "_uuid": "af64790cdb7e5beb05fc34635cdf092124d7dc20"
      },
      "cell_type": "code",
      "source": "# Create list of upsampled test masks\npreds_test_upsampled = []\nfor i in tnrange(len(preds_test)):\n    preds_test_upsampled.append(resize(np.squeeze(preds_test[i]), \n                                       (101, 101), mode='constant',\n                                       preserve_range=True))\n    ",
      "execution_count": null,
      "outputs": []
    },
    {
      "metadata": {
        "_uuid": "844cded40edc71652bc5b26852245e37f46f6448"
      },
      "cell_type": "markdown",
      "source": "# Prepare Submission\nWe need to prepare the submission. "
    },
    {
      "metadata": {
        "trusted": true,
        "_uuid": "73336f76166028ba39c8164083c9564a0d5afe40",
        "scrolled": true
      },
      "cell_type": "code",
      "source": "def RLenc(img, order='F', format=True):\n    \"\"\"\n    img is binary mask image, shape (r,c)\n    order is down-then-right, i.e. Fortran\n    format determines if the order needs to be preformatted (according to submission rules) or not\n\n    returns run length as an array or string (if format is True)\n    \"\"\"\n    bytes = img.reshape(img.shape[0] * img.shape[1], order=order)\n    runs = []  ## list of run lengths\n    r = 0  ## the current run length\n    pos = 1  ## count starts from 1 per WK\n    for c in bytes:\n        if (c == 0):\n            if r != 0:\n                runs.append((pos, r))\n                pos += r\n                r = 0\n            pos += 1\n        else:\n            r += 1\n\n    # if last run is unsaved (i.e. data ends with 1)\n    if r != 0:\n        runs.append((pos, r))\n        pos += r\n        r = 0\n\n    if format:\n        z = ''\n\n        for rr in runs:\n            z += '{} {} '.format(rr[0], rr[1])\n        return z[:-1]\n    else:\n        return runs\n\npred_dict = {fn:RLenc(np.round(preds_test_upsampled[i])) for i,fn in tqdm_notebook(enumerate(test_ids))}",
      "execution_count": null,
      "outputs": []
    },
    {
      "metadata": {
        "trusted": true,
        "_uuid": "6eaf7acaf4a0678638c5e40732c6533816777637"
      },
      "cell_type": "code",
      "source": "sub = pd.DataFrame.from_dict(pred_dict,orient='index')\nsub.index.names = ['id']\nsub.columns = ['rle_mask']\nsub.to_csv('submission.csv')",
      "execution_count": null,
      "outputs": []
    },
    {
      "metadata": {
        "trusted": true,
        "_uuid": "7053aeadabcc4e29e1e7d9d60c920a2cc5746018"
      },
      "cell_type": "code",
      "source": "sub.head()",
      "execution_count": null,
      "outputs": []
    },
    {
      "metadata": {
        "trusted": true,
        "_uuid": "4a28699ff3b0cfe18fc9f9fb6fc3d20374988583"
      },
      "cell_type": "code",
      "source": "sub.loc[sub['rle_mask']==\"\"].shape",
      "execution_count": null,
      "outputs": []
    },
    {
      "metadata": {
        "trusted": true,
        "_uuid": "6625d5d0ad0dc1d183aacaee8c58f63244f45e5b"
      },
      "cell_type": "code",
      "source": "",
      "execution_count": null,
      "outputs": []
    }
  ],
  "metadata": {
    "kernelspec": {
      "display_name": "Python 3",
      "language": "python",
      "name": "python3"
    },
    "language_info": {
      "name": "python",
      "version": "3.6.6",
      "mimetype": "text/x-python",
      "codemirror_mode": {
        "name": "ipython",
        "version": 3
      },
      "pygments_lexer": "ipython3",
      "nbconvert_exporter": "python",
      "file_extension": ".py"
    }
  },
  "nbformat": 4,
  "nbformat_minor": 1
}